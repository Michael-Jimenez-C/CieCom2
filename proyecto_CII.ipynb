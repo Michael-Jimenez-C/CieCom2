{
  "nbformat": 4,
  "nbformat_minor": 0,
  "metadata": {
    "colab": {
      "provenance": [],
      "include_colab_link": true
    },
    "kernelspec": {
      "name": "python3",
      "display_name": "Python 3"
    },
    "language_info": {
      "name": "python"
    }
  },
  "cells": [
    {
      "cell_type": "markdown",
      "metadata": {
        "id": "view-in-github",
        "colab_type": "text"
      },
      "source": [
        "<a href=\"https://colab.research.google.com/github/Michael-Jimenez-C/CieCom2/blob/main/proyecto_CII.ipynb\" target=\"_parent\"><img src=\"https://colab.research.google.com/assets/colab-badge.svg\" alt=\"Open In Colab\"/></a>"
      ]
    },
    {
      "cell_type": "code",
      "source": [
        "import sympy as sp"
      ],
      "metadata": {
        "id": "kET76UlkvGPm",
        "colab": {
          "base_uri": "https://localhost:8080/"
        },
        "outputId": "825d0b73-b274-4c77-80f8-59a6d845dcc1"
      },
      "execution_count": 115,
      "outputs": [
        {
          "output_type": "stream",
          "name": "stdout",
          "text": [
            "IPython console for SymPy 1.11.1 (Python 3.9.16-64-bit) (ground types: python)\n",
            "\n",
            "These commands were executed:\n",
            ">>> from sympy import *\n",
            ">>> x, y, z, t = symbols('x y z t')\n",
            ">>> k, m, n = symbols('k m n', integer=True)\n",
            ">>> f, g, h = symbols('f g h', cls=Function)\n",
            ">>> init_printing()\n",
            "\n",
            "Documentation can be found at https://docs.sympy.org/1.11.1/\n",
            "\n"
          ]
        }
      ]
    },
    {
      "cell_type": "code",
      "execution_count": 220,
      "metadata": {
        "id": "1Xe32AipxY46"
      },
      "outputs": [],
      "source": [
        "class Cuarto:\n",
        "  def __init__(self,capacitancia,temperatura,fuente=0,Rfuente=1):\n",
        "    t=sp.symbols(\"t\")\n",
        "    self.temperatura=temperatura\n",
        "    self.adyacentes=[]#[(nodo,resistencia)]\n",
        "    self.capacitancia=capacitancia\n",
        "    self.fuente=fuente\n",
        "    self.Rfuente=Rfuente\n",
        "  def eq(self):\n",
        "    equ=0\n",
        "    if type(self.fuente)!=list:\n",
        "      equ+=(self.fuente-self.temperatura if self.fuente!=0 else 0)/self.Rfuente\n",
        "    else:\n",
        "      for i,j in zip(self.fuente,self.Rfuente):\n",
        "        equ+=(i-self.temperatura if i!=0 else 0)/j\n",
        "    for i in self.adyacentes:\n",
        "      equ+=(i[0].temperatura-self.temperatura)*sp.Rational(1,i[1])\n",
        "    return sp.simplify(equ*sp.Rational(1,self.capacitancia))"
      ]
    },
    {
      "cell_type": "code",
      "source": [
        "t,s=sp.symbols(\"t s\")\n",
        "T1,T2,T3=sp.symbols(\"T_{1} T_{2} T_{3}\")\n",
        "A1=Cuarto(10,T1,sp.symbols(\"T_{i1}\"))\n",
        "B1=Cuarto(5,T2,0)\n",
        "C1=Cuarto(10,T3,0)\n",
        "\n",
        "A1.adyacentes=[(B1,15)]\n",
        "B1.adyacentes=[(A1,11),(C1,20)]\n",
        "C1.adyacentes=[(A1,20)]\n",
        "\n",
        "nodos=[A1,B1,C1]"
      ],
      "metadata": {
        "id": "qUQpA5-3ROwT"
      },
      "execution_count": 219,
      "outputs": []
    },
    {
      "cell_type": "code",
      "source": [
        "nodos[1].eq()"
      ],
      "metadata": {
        "id": "LbdpgR5PsNQ2",
        "outputId": "ac638d50-d9e9-4949-85d7-877b056aee5a",
        "colab": {
          "base_uri": "https://localhost:8080/",
          "height": 52
        }
      },
      "execution_count": 221,
      "outputs": [
        {
          "output_type": "execute_result",
          "data": {
            "text/plain": [
              "T_{1}   31⋅T_{2}   T_{3}\n",
              "───── - ──────── + ─────\n",
              "  55      1100      100 "
            ],
            "text/latex": "$\\displaystyle \\frac{T_{1}}{55} - \\frac{31 T_{2}}{1100} + \\frac{T_{3}}{100}$"
          },
          "metadata": {},
          "execution_count": 221
        }
      ]
    },
    {
      "cell_type": "code",
      "source": [
        "variables=sp.symbols(\"T_{1} T_{2} T_{3}\")\n",
        "entradas=[sp.symbols(\"T_{i1}\")]\n",
        "A=[]\n",
        "B=[]\n",
        "for i in range(len(nodos)):\n",
        "  A.append([])\n",
        "  B.append([])\n",
        "  eq=nodos[i].eq()\n",
        "  for j in range(len(variables)):\n",
        "    A[-1].append(eq.coeff(variables[j]))\n",
        "  for j in range(len(entradas)):\n",
        "    B[-1].append(eq.coeff(entradas[j]))\n",
        "\n",
        "A=sp.Matrix(A)\n",
        "B=sp.Matrix(B)\n",
        "C=sp.Matrix([[1 for i in range(A.shape[0])]])\n",
        "A,B"
      ],
      "metadata": {
        "id": "jPpZEuCkp6_P",
        "outputId": "6f3b7c5c-97ca-4f5e-9e88-c0290dfc47af",
        "colab": {
          "base_uri": "https://localhost:8080/",
          "height": 78
        }
      },
      "execution_count": 222,
      "outputs": [
        {
          "output_type": "execute_result",
          "data": {
            "text/plain": [
              "⎛⎡-8/75  1/150    0   ⎤        ⎞\n",
              "⎜⎢                    ⎥  ⎡1/10⎤⎟\n",
              "⎜⎢       -31          ⎥  ⎢    ⎥⎟\n",
              "⎜⎢1/55   ────   1/100 ⎥, ⎢ 0  ⎥⎟\n",
              "⎜⎢       1100         ⎥  ⎢    ⎥⎟\n",
              "⎜⎢                    ⎥  ⎣ 0  ⎦⎟\n",
              "⎝⎣1/200    0    -1/200⎦        ⎠"
            ],
            "text/latex": "$\\displaystyle \\left( \\left[\\begin{matrix}- \\frac{8}{75} & \\frac{1}{150} & 0\\\\\\frac{1}{55} & - \\frac{31}{1100} & \\frac{1}{100}\\\\\\frac{1}{200} & 0 & - \\frac{1}{200}\\end{matrix}\\right], \\  \\left[\\begin{matrix}\\frac{1}{10}\\\\0\\\\0\\end{matrix}\\right]\\right)$"
          },
          "metadata": {},
          "execution_count": 222
        }
      ]
    },
    {
      "cell_type": "code",
      "source": [
        "class Edificio:\n",
        "  pass"
      ],
      "metadata": {
        "id": "gbe-TCCgaczg"
      },
      "execution_count": null,
      "outputs": []
    },
    {
      "cell_type": "markdown",
      "source": [
        "r"
      ],
      "metadata": {
        "id": "EG4e4z79GbHN"
      }
    },
    {
      "cell_type": "code",
      "source": [
        "def eAt(A,t):\n",
        "  T,D=sp.N(A,2).diagonalize()\n",
        "  return T*sp.exp(D*t)*T.inv()"
      ],
      "metadata": {
        "id": "u5bxwtgwdcgQ"
      },
      "execution_count": 217,
      "outputs": []
    },
    {
      "cell_type": "code",
      "source": [
        "x0=sp.Matrix([[0],[0],[0]])\n",
        "u=sp.Matrix([[sp.sin(t)]])"
      ],
      "metadata": {
        "id": "5-g57CsmyNwd"
      },
      "execution_count": 224,
      "outputs": []
    },
    {
      "cell_type": "code",
      "source": [
        "def solucionTiempo(A,B,x0,u):\n",
        "  t=sp.symbols(\"t\")\n",
        "  EAT=eAt(A,t)\n",
        "  tau=sp.symbols(\"\\tau\") \n",
        "  return EAT*x0+sp.integrate(EAT.subs(t,tau)*B*u.subs(t,t-tau),(tau,0,t))"
      ],
      "metadata": {
        "id": "oUCcklPJgFwX"
      },
      "execution_count": 225,
      "outputs": []
    },
    {
      "cell_type": "code",
      "source": [
        "def solucionFrecuencia(A,B,x0,u):\n",
        "  t,s=sp.symbols(\"t s\")\n",
        "  U=sp.laplace_transform(u,t,s,noconds=True)\n",
        "  Y=(s*sp.eye(A.shape[0])-A).inv()@(x0+B*U)\n",
        "  sol=sp.inverse_laplace_transform(sp.expand(Y),s,t)\n",
        "  return sol\n"
      ],
      "metadata": {
        "id": "jzCBeSbsw4Mb"
      },
      "execution_count": 226,
      "outputs": []
    },
    {
      "cell_type": "code",
      "source": [
        "sol=solucionFrecuencia(A,B,x0,u)\n",
        "sol\n",
        "sp.N(sol[0].subs(t,10))"
      ],
      "metadata": {
        "id": "b0-ELpcPyCj2",
        "colab": {
          "base_uri": "https://localhost:8080/",
          "height": 72
        },
        "outputId": "d2020fc5-9ab4-4d0d-bcec-a236d3c60157"
      },
      "execution_count": 212,
      "outputs": [
        {
          "output_type": "stream",
          "name": "stdout",
          "text": [
            "u Matrix([[t*Heaviside(t)]])\n",
            "y Matrix([[(1 + s**(-2))/(s**2 - 1)], [(1 + s**(-2))/(s + 1)]])\n"
          ]
        },
        {
          "output_type": "execute_result",
          "data": {
            "text/plain": [
              "22016.4657494068"
            ],
            "text/latex": "$\\displaystyle 22016.4657494068$"
          },
          "metadata": {},
          "execution_count": 212
        }
      ]
    },
    {
      "cell_type": "code",
      "source": [
        "sol=solucionTiempo(A,B,x0,u)\n",
        "sol\n",
        "sp.N(sol[0].subs(t,10))"
      ],
      "metadata": {
        "colab": {
          "base_uri": "https://localhost:8080/",
          "height": 37
        },
        "id": "aNCd25dlgZbs",
        "outputId": "5666a05d-8b56-4018-82ab-064fd95d42a7"
      },
      "execution_count": 227,
      "outputs": [
        {
          "output_type": "execute_result",
          "data": {
            "text/plain": [
              "0.111516565097915"
            ],
            "text/latex": "$\\displaystyle 0.111516565097915$"
          },
          "metadata": {},
          "execution_count": 227
        }
      ]
    },
    {
      "cell_type": "code",
      "source": [
        "sp.plot(sol[0],0,100)"
      ],
      "metadata": {
        "id": "8IT5pzpiBZOX",
        "colab": {
          "base_uri": "https://localhost:8080/"
        },
        "outputId": "3b655fa6-86da-4055-d6b1-fcb14174387c"
      },
      "execution_count": 229,
      "outputs": [
        {
          "output_type": "execute_result",
          "data": {
            "text/plain": [
              "<sympy.plotting.plot.Plot at 0x7f3ae73912b0>"
            ]
          },
          "metadata": {},
          "execution_count": 229
        }
      ]
    }
  ]
}