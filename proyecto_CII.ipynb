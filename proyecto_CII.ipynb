{
  "nbformat": 4,
  "nbformat_minor": 0,
  "metadata": {
    "colab": {
      "provenance": [],
      "include_colab_link": true
    },
    "kernelspec": {
      "name": "python3",
      "display_name": "Python 3"
    },
    "language_info": {
      "name": "python"
    }
  },
  "cells": [
    {
      "cell_type": "markdown",
      "metadata": {
        "id": "view-in-github",
        "colab_type": "text"
      },
      "source": [
        "<a href=\"https://colab.research.google.com/github/Michael-Jimenez-C/CieCom2/blob/main/proyecto_CII.ipynb\" target=\"_parent\"><img src=\"https://colab.research.google.com/assets/colab-badge.svg\" alt=\"Open In Colab\"/></a>"
      ]
    },
    {
      "cell_type": "code",
      "source": [
        "import sympy as sp\n",
        "import numpy as np\n",
        "from scipy import signal\n",
        "import matplotlib.pyplot as plt\n",
        "from sympy.physics.control.lti import TransferFunction\n",
        "from sympy.series.formal import Coeff\n",
        "from sympy.abc import t,s"
      ],
      "metadata": {
        "id": "kET76UlkvGPm"
      },
      "execution_count": null,
      "outputs": []
    },
    {
      "cell_type": "code",
      "execution_count": null,
      "metadata": {
        "id": "1Xe32AipxY46"
      },
      "outputs": [],
      "source": [
        "class Cuarto:\n",
        "  def __init__(self,capacitancia,temperatura,fuente=0,Rfuente=1):\n",
        "    t=sp.symbols(\"t\")\n",
        "    self.temperatura=temperatura\n",
        "    self.adyacentes=[]#[(nodo,resistencia)]\n",
        "    self.capacitancia=capacitancia\n",
        "    self.fuente=fuente\n",
        "    self.Rfuente=Rfuente\n",
        "  def eq(self):\n",
        "    equ=0\n",
        "    if type(self.fuente)!=list:\n",
        "      equ+=(self.fuente-self.temperatura if self.fuente!=0 else 0)/self.Rfuente\n",
        "    else:\n",
        "      for i,j in zip(self.fuente,self.Rfuente):\n",
        "        equ+=(i-self.temperatura if i!=0 else 0)/j\n",
        "    for i in self.adyacentes:\n",
        "      equ+=(i[0].temperatura-self.temperatura)*sp.Rational(1,i[1])\n",
        "    return sp.simplify(equ*sp.Rational(1,self.capacitancia))\n",
        "  def add_ady(self,other,material):\n",
        "    if (other,material) not in self.adyacentes:\n",
        "      self.adyacentes.append((other,material))\n",
        "      other.adyacentes.append((self,material))"
      ]
    },
    {
      "cell_type": "markdown",
      "source": [
        "aire\n",
        "$$C_a=(\\rho*V)*c=\\approx 1.214J/m^3*V$$\n",
        "$\\rho=\\frac{P_s}{287.058j/(kg*K)\\cdot T_a}=\\text{densidad del aire}\\approx1.2kg/m^3$\n",
        "\n",
        "$c\\approx0.24$\n",
        "\n",
        "No varía significativamente entre 0 y 40 grados, y la variación entre aire humedo y seco no es muy significativa\n",
        "\n",
        "Agua\n",
        "\n",
        "$$C_a\\approx4184J/m^3$$\n",
        "$c=1$"
      ],
      "metadata": {
        "id": "1AcC_AtZSv4K"
      }
    },
    {
      "cell_type": "markdown",
      "source": [
        "Suponiendo pisos de 2.5m de alto:\n",
        "$C_a=3.035J/m^2*A$"
      ],
      "metadata": {
        "id": "HYIEFYH8UpiL"
      }
    },
    {
      "cell_type": "code",
      "source": [
        "resistencias_termicas = {\n",
        "    'Ladrillo': 0.069, # en m²K/W,\n",
        "    'Madera': 0.769,\n",
        "    'Bloque de concreto': 0.110,\n",
        "    'Hormigón': 0.800,\n",
        "    'Fibra de vidrio': 3.040,\n",
        "    'Lana mineral': 2.800,\n",
        "    'Poliestireno expandido': 0.038,\n",
        "    'Poliestireno extruido': 0.035,\n",
        "    'Aislamiento de celulosa': 0.050,\n",
        "    'Aislamiento de corcho': 0.043,\n",
        "    'Aislamiento de lana de oveja': 0.045,\n",
        "    'Aislamiento de fibra de cáñamo': 0.044,\n",
        "    'Drywall': 0.131\n",
        "}"
      ],
      "metadata": {
        "id": "-QkWHmksVuhI"
      },
      "execution_count": null,
      "outputs": []
    },
    {
      "cell_type": "code",
      "source": [
        "t,s=sp.symbols(\"t s\")\n",
        "T1,T2,T3=sp.symbols(\"T_{1} T_{2} T_{3}\")\n",
        "A1=Cuarto(3.035*2,T1,sp.symbols(\"T_{i1}\"),Rfuente=resistencias_termicas[\"Poliestireno expandido\"]*8.8)\n",
        "B1=Cuarto(3.035*25,T2,0)\n",
        "C1=Cuarto(3.035*120,T3,sp.symbols(\"T_{i2}\"),Rfuente=resistencias_termicas[\"Poliestireno expandido\"]*6)\n",
        "\n",
        "A1.add_ady(B1,resistencias_termicas[\"Drywall\"])\n",
        "B1.add_ady(C1,resistencias_termicas[\"Ladrillo\"])\n",
        "\n",
        "nodos=[A1,B1,C1]"
      ],
      "metadata": {
        "id": "qUQpA5-3ROwT"
      },
      "execution_count": null,
      "outputs": []
    },
    {
      "cell_type": "code",
      "source": [
        "variables=sp.symbols(\"T_{1} T_{2} T_{3}\")\n",
        "entradas=sp.symbols(\"T_{i1} T_{i2}\")\n",
        "A=[]\n",
        "B=[]\n",
        "for i in range(len(nodos)):\n",
        "  A.append([])\n",
        "  B.append([])\n",
        "  eq=nodos[i].eq()\n",
        "  for j in range(len(variables)):\n",
        "    A[-1].append(eq.coeff(variables[j]))\n",
        "  for j in range(len(entradas)):\n",
        "    B[-1].append(eq.coeff(entradas[j]))\n",
        "\n",
        "A=sp.N(sp.Matrix(A),2)\n",
        "B=sp.N(sp.Matrix(B),2)\n",
        "A,B"
      ],
      "metadata": {
        "id": "jPpZEuCkp6_P",
        "outputId": "c6357a2d-1868-46b1-c573-c9e0d731056b",
        "colab": {
          "base_uri": "https://localhost:8080/"
        }
      },
      "execution_count": null,
      "outputs": [
        {
          "output_type": "execute_result",
          "data": {
            "text/plain": [
              "(Matrix([\n",
              " [-1.8,   1.3,      0],\n",
              " [ 0.1, -0.29,   0.19],\n",
              " [   0,  0.04, -0.052]]),\n",
              " Matrix([\n",
              " [0.49,     0],\n",
              " [   0,     0],\n",
              " [   0, 0.012]]))"
            ]
          },
          "metadata": {},
          "execution_count": 47
        }
      ]
    },
    {
      "cell_type": "code",
      "source": [
        "class Edificio:\n",
        "  pass"
      ],
      "metadata": {
        "id": "gbe-TCCgaczg"
      },
      "execution_count": null,
      "outputs": []
    },
    {
      "cell_type": "markdown",
      "source": [
        "r"
      ],
      "metadata": {
        "id": "EG4e4z79GbHN"
      }
    },
    {
      "cell_type": "code",
      "source": [
        "T=np.linspace(0,200,300)\n",
        "\n",
        "x0=np.array([15,15,15])\n",
        "\n",
        "U=np.array([30+0*T,15+0*T]).T\n",
        "\n",
        "te=[]\n",
        "for i in range(3):\n",
        "  lti=signal.StateSpace(A,B,np.eye(A.shape[0])[i],np.array([[0,0]]))\n",
        "  t_, y ,k= signal.lsim(lti,T=T,X0=x0,U=U)\n",
        "  te.append((i,np.max(y)))\n",
        "  plt.plot(t_, y)\n",
        "  plt.grid()\n",
        "plt.show()"
      ],
      "metadata": {
        "id": "En9m2kkoWp9Q",
        "outputId": "283c86ce-f09a-4267-dd05-e16072d69da8",
        "colab": {
          "base_uri": "https://localhost:8080/",
          "height": 430
        }
      },
      "execution_count": null,
      "outputs": [
        {
          "output_type": "display_data",
          "data": {
            "text/plain": [
              "<Figure size 640x480 with 1 Axes>"
            ],
            "image/png": "[encoded data removed]"
          },
          "metadata": {}
        }
      ]
    },
    {
      "cell_type": "code",
      "source": [
        "for i in te:\n",
        "  if i[1]>20:\n",
        "    print(f\"La habitación {i[0]} debe reducir la temperatura con {i[1]}\")"
      ],
      "metadata": {
        "id": "-pfXkqZr90E_",
        "outputId": "d1171fc9-2d8d-4ca5-a5d4-76128c6b2ead",
        "colab": {
          "base_uri": "https://localhost:8080/"
        }
      },
      "execution_count": null,
      "outputs": [
        {
          "output_type": "stream",
          "name": "stdout",
          "text": [
            "La habitación 0 debe reducir la temperatura con 23.267980039156257\n",
            "La habitación 1 debe reducir la temperatura con 20.62412285994375\n"
          ]
        }
      ]
    },
    {
      "cell_type": "code",
      "source": [
        "from PIL import *"
      ],
      "metadata": {
        "id": "ioffKbO5IQo9"
      },
      "execution_count": null,
      "outputs": []
    },
    {
      "cell_type": "code",
      "source": [
        "img=Image.open('cosa.PNG')\n",
        "img"
      ],
      "metadata": {
        "id": "bL6GvSYKL0uE",
        "outputId": "b59b9197-13ac-4a18-cf8f-01d109814b9a",
        "colab": {
          "base_uri": "https://localhost:8080/",
          "height": 183
        }
      },
      "execution_count": 120,
      "outputs": [
        {
          "output_type": "error",
          "ename": "NameError",
          "evalue": "ignored",
          "traceback": [
            "\u001b[0;31m---------------------------------------------------------------------------\u001b[0m",
            "\u001b[0;31mNameError\u001b[0m                                 Traceback (most recent call last)",
            "\u001b[0;32m<ipython-input-120-cfe32ea29d31>\u001b[0m in \u001b[0;36m<cell line: 1>\u001b[0;34m()\u001b[0m\n\u001b[0;32m----> 1\u001b[0;31m \u001b[0mimg\u001b[0m\u001b[0;34m=\u001b[0m\u001b[0mImage\u001b[0m\u001b[0;34m.\u001b[0m\u001b[0mopen\u001b[0m\u001b[0;34m(\u001b[0m\u001b[0;34m'cosa.PNG'\u001b[0m\u001b[0;34m)\u001b[0m\u001b[0;34m\u001b[0m\u001b[0;34m\u001b[0m\u001b[0m\n\u001b[0m\u001b[1;32m      2\u001b[0m \u001b[0mimg\u001b[0m\u001b[0;34m\u001b[0m\u001b[0;34m\u001b[0m\u001b[0m\n",
            "\u001b[0;31mNameError\u001b[0m: name 'Image' is not defined"
          ]
        }
      ]
    },
    {
      "cell_type": "markdown",
      "source": [
        "$p_{ij}$:pixel en la posicion i,j\n",
        "\n",
        "$c_{ij}$:color del pixel en la posicion i,j\n",
        "\n",
        "$V(p)$:Vector de posicion del pixel dado\n",
        "\n",
        "$p_i$:Pixel iesimo del objeto\n",
        "\n",
        "$A$:Objeto\n",
        "\n",
        "$n$: valor de distancia maxima\n",
        "\n",
        "$$p_{ij}\\in A \\iff \\exists_{p}(p\\in A \\land d(p,p_{ij})\\leq n \\land c=c_{ij})$$\n",
        "\n",
        "$$A_1\\cup A_2 \\equiv A_T \\iff \\exists_{xy}(x\\in A_1 \\land y\\in A_2 \\land d(x,y) \\leq n)$$"
      ],
      "metadata": {
        "id": "HClGkGmCk1OU"
      }
    }
  ]
}