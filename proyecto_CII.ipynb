{
  "nbformat": 4,
  "nbformat_minor": 0,
  "metadata": {
    "colab": {
      "provenance": [],
      "authorship_tag": "ABX9TyMy6ERDzWt3iIN1FuKeop67",
      "include_colab_link": true
    },
    "kernelspec": {
      "name": "python3",
      "display_name": "Python 3"
    },
    "language_info": {
      "name": "python"
    }
  },
  "cells": [
    {
      "cell_type": "markdown",
      "metadata": {
        "id": "view-in-github",
        "colab_type": "text"
      },
      "source": [
        "<a href=\"https://colab.research.google.com/github/Michael-Jimenez-C/CieCom2/blob/main/proyecto_CII.ipynb\" target=\"_parent\"><img src=\"https://colab.research.google.com/assets/colab-badge.svg\" alt=\"Open In Colab\"/></a>"
      ]
    },
    {
      "cell_type": "code",
      "source": [
        "import sympy as sp"
      ],
      "metadata": {
        "id": "kET76UlkvGPm"
      },
      "execution_count": null,
      "outputs": []
    },
    {
      "cell_type": "code",
      "execution_count": null,
      "metadata": {
        "id": "1Xe32AipxY46"
      },
      "outputs": [],
      "source": [
        "class Cuarto:\n",
        "  def __init__(self,capacitancia,temperatura,fuente=0):\n",
        "    t=sp.symbols(\"t\")\n",
        "    self.temperatura=temperatura\n",
        "    self.adyacentes=[]#[(nodo,resistencia)]\n",
        "    self.capacitancia=capacitancia\n",
        "    self.fuente=fuente\n",
        "  def eq(self):\n",
        "    self.eq=(self.fuente-self.temperatura if self.fuente!=0 else 0)\n",
        "    for i in self.adyacentes:\n",
        "      self.eq+=(i[0].temperatura-self.temperatura)*sp.Rational(1,i[1])\n",
        "    return sp.simplify(self.eq*sp.Rational(1,self.capacitancia))"
      ]
    },
    {
      "cell_type": "code",
      "source": [
        "t,s=sp.symbols(\"t s\")\n",
        "T1,T2,T3=sp.symbols(\"T_1 T_2 T_3\")\n",
        "A=Cuarto(10,T1,sp.symbols(\"T_i\"))\n",
        "B=Cuarto(5,T2,0)\n",
        "C=Cuarto(100000,T3,0)\n",
        "\n",
        "A.adyacentes=[(B,15)]\n",
        "B.adyacentes=[(A,15),(C,20)]\n",
        "C.adyacentes=[(A,20)]\n",
        "\n",
        "nodos=[A,B,C]"
      ],
      "metadata": {
        "id": "qUQpA5-3ROwT"
      },
      "execution_count": null,
      "outputs": []
    },
    {
      "cell_type": "code",
      "source": [
        "A.eq()"
      ],
      "metadata": {
        "colab": {
          "base_uri": "https://localhost:8080/",
          "height": 52
        },
        "id": "dsUmJtcFlvyc",
        "outputId": "c3620050-95b5-4e9a-badd-99d3b110d69a"
      },
      "execution_count": null,
      "outputs": [
        {
          "output_type": "execute_result",
          "data": {
            "text/plain": [
              "-8*T_1/75 + T_2/150 + T_i/10"
            ],
            "text/latex": "$\\displaystyle - \\frac{8 T_{1}}{75} + \\frac{T_{2}}{150} + \\frac{T_{i}}{10}$"
          },
          "metadata": {},
          "execution_count": 8
        }
      ]
    },
    {
      "cell_type": "code",
      "source": [
        "eq=A.eq()"
      ],
      "metadata": {
        "id": "JU5SQev2xEUC"
      },
      "execution_count": null,
      "outputs": []
    },
    {
      "cell_type": "code",
      "source": [
        "eq.coeff(T1)"
      ],
      "metadata": {
        "colab": {
          "base_uri": "https://localhost:8080/",
          "height": 51
        },
        "id": "Sz0LRDsgxSK4",
        "outputId": "41d9ce2e-0019-4267-b7c1-6f9d4c522531"
      },
      "execution_count": null,
      "outputs": [
        {
          "output_type": "execute_result",
          "data": {
            "text/plain": [
              "-8/75"
            ],
            "text/latex": "$\\displaystyle - \\frac{8}{75}$"
          },
          "metadata": {},
          "execution_count": 15
        }
      ]
    },
    {
      "cell_type": "code",
      "source": [
        "entradas=sp.symbols(\"T_i T_3\")\n",
        "variables=sp.symbols(\"T_{1:3}\")"
      ],
      "metadata": {
        "id": "jTx3rbPwarNP"
      },
      "execution_count": null,
      "outputs": []
    },
    {
      "cell_type": "code",
      "source": [
        "class Edificio:\n",
        "  pass"
      ],
      "metadata": {
        "id": "gbe-TCCgaczg"
      },
      "execution_count": null,
      "outputs": []
    },
    {
      "cell_type": "markdown",
      "source": [
        "r"
      ],
      "metadata": {
        "id": "EG4e4z79GbHN"
      }
    },
    {
      "cell_type": "code",
      "source": [
        "t,s=sp.symbols(\"t s\")\n",
        "\n",
        "A=sp.Matrix([[1,1],[0,-1]])\n",
        "B=sp.Matrix([[0],[1]])\n",
        "x0=sp.Matrix([[0],[1]])\n",
        "u=sp.Matrix([[sp.Heaviside(t)*t]])"
      ],
      "metadata": {
        "id": "G8JUhpRJAiy6"
      },
      "execution_count": null,
      "outputs": []
    },
    {
      "cell_type": "code",
      "source": [
        "U=sp.Matrix([i[0] for i in sp.laplace_transform(u,t,s)])\n",
        "Y=(s*sp.eye(A.shape[0])-A).inv()@(x0+B*U)\n",
        "sol=sp.inverse_laplace_transform(Y,s,t)"
      ],
      "metadata": {
        "id": "TCg9mDjxAiv_"
      },
      "execution_count": null,
      "outputs": []
    },
    {
      "cell_type": "code",
      "source": [
        "sol"
      ],
      "metadata": {
        "colab": {
          "base_uri": "https://localhost:8080/",
          "height": 58
        },
        "id": "UWWhQw4uFYMl",
        "outputId": "ff97ebab-b72e-4cf9-a670-82c290505b1b"
      },
      "execution_count": null,
      "outputs": [
        {
          "output_type": "execute_result",
          "data": {
            "text/plain": [
              "Matrix([\n",
              "[(-t*exp(t) + exp(2*t) - 1)*exp(-t)*Heaviside(t)],\n",
              "[   (t*exp(t) - exp(t) + 2)*exp(-t)*Heaviside(t)]])"
            ],
            "text/latex": "$\\displaystyle \\left[\\begin{matrix}\\left(- t e^{t} + e^{2 t} - 1\\right) e^{- t} \\theta\\left(t\\right)\\\\\\left(t e^{t} - e^{t} + 2\\right) e^{- t} \\theta\\left(t\\right)\\end{matrix}\\right]$"
          },
          "metadata": {},
          "execution_count": 18
        }
      ]
    },
    {
      "cell_type": "code",
      "source": [
        "sp.plot(sol[0],0,100)"
      ],
      "metadata": {
        "colab": {
          "base_uri": "https://localhost:8080/",
          "height": 313
        },
        "id": "8IT5pzpiBZOX",
        "outputId": "cc75cb18-d422-44eb-eaca-02c228c52c78"
      },
      "execution_count": null,
      "outputs": [
        {
          "output_type": "display_data",
          "data": {
            "text/plain": [
              "<Figure size 432x288 with 1 Axes>"
            ],
            "image/png": "[encoded data removed]"
          },
          "metadata": {
            "needs_background": "light"
          }
        },
        {
          "output_type": "execute_result",
          "data": {
            "text/plain": [
              "<sympy.plotting.plot.Plot at 0x7f7de2e64b20>"
            ]
          },
          "metadata": {},
          "execution_count": 19
        }
      ]
    }
  ]
}