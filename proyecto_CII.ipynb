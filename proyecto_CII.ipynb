{
  "nbformat": 4,
  "nbformat_minor": 0,
  "metadata": {
    "colab": {
      "provenance": [],
      "include_colab_link": true
    },
    "kernelspec": {
      "name": "python3",
      "display_name": "Python 3"
    },
    "language_info": {
      "name": "python"
    }
  },
  "cells": [
    {
      "cell_type": "markdown",
      "metadata": {
        "id": "view-in-github",
        "colab_type": "text"
      },
      "source": [
        "<a href=\"https://colab.research.google.com/github/Michael-Jimenez-C/CieCom2/blob/main/proyecto_CII.ipynb\" target=\"_parent\"><img src=\"https://colab.research.google.com/assets/colab-badge.svg\" alt=\"Open In Colab\"/></a>"
      ]
    },
    {
      "cell_type": "code",
      "source": [
        "import sympy as sp"
      ],
      "metadata": {
        "id": "kET76UlkvGPm"
      },
      "execution_count": 1,
      "outputs": []
    },
    {
      "cell_type": "code",
      "execution_count": 2,
      "metadata": {
        "id": "1Xe32AipxY46"
      },
      "outputs": [],
      "source": [
        "class Cuarto:\n",
        "  def __init__(self,capacitancia,temperatura,fuente=0,Rfuente=1):\n",
        "    t=sp.symbols(\"t\")\n",
        "    self.temperatura=temperatura\n",
        "    self.adyacentes=[]#[(nodo,resistencia)]\n",
        "    self.capacitancia=capacitancia\n",
        "    self.fuente=fuente\n",
        "    self.Rfuente=Rfuente\n",
        "  def eq(self):\n",
        "    equ=0\n",
        "    if type(self.fuente)!=list:\n",
        "      equ+=(self.fuente-self.temperatura if self.fuente!=0 else 0)/self.Rfuente\n",
        "    else:\n",
        "      for i,j in zip(self.fuente,self.Rfuente):\n",
        "        equ+=(i-self.temperatura if i!=0 else 0)/j\n",
        "    for i in self.adyacentes:\n",
        "      equ+=(i[0].temperatura-self.temperatura)*sp.Rational(1,i[1])\n",
        "    return sp.simplify(equ*sp.Rational(1,self.capacitancia))"
      ]
    },
    {
      "cell_type": "markdown",
      "source": [
        "aire\n",
        "$$C_a=(\\rho*V)*c=\\approx 0.29kcal/m^3*V$$\n",
        "$\\rho=\\frac{P_s}{287.058j/(kg*K)\\cdot T_a}=\\text{densidad del aire}\\approx1.2kg/m^3$\n",
        "\n",
        "$c\\approx0.24$\n",
        "\n",
        "No varía significativamente entre 0 y 40 grados, y la variación entre aire humedo y seco no es muy significativa\n",
        "\n",
        "Agua\n",
        "\n",
        "$$C_a\\approx1000kcal/m^3$$\n",
        "$c=1$"
      ],
      "metadata": {
        "id": "1AcC_AtZSv4K"
      }
    },
    {
      "cell_type": "markdown",
      "source": [
        "Suponiendo pisos de 2.5m de alto:\n",
        "$C_a=0.725kcal/m^2*A$"
      ],
      "metadata": {
        "id": "HYIEFYH8UpiL"
      }
    },
    {
      "cell_type": "code",
      "source": [
        "resistencias_termicas = {\n",
        "    'Ladrillo': 0.069, # en m²K/W\n",
        "    'Bloque de concreto': 0.110,\n",
        "    'Hormigón': 0.800,\n",
        "    'Fibra de vidrio': 3.040,\n",
        "    'Lana mineral': 2.800,\n",
        "    'Poliestireno expandido': 0.038,\n",
        "    'Poliestireno extruido': 0.035,\n",
        "    'Aislamiento de celulosa': 0.050,\n",
        "    'Aislamiento de corcho': 0.043,\n",
        "    'Aislamiento de lana de oveja': 0.045,\n",
        "    'Aislamiento de fibra de cáñamo': 0.044,\n",
        "    'Drywall': 0.131\n",
        "}\n"
      ],
      "metadata": {
        "id": "-QkWHmksVuhI"
      },
      "execution_count": 3,
      "outputs": []
    },
    {
      "cell_type": "code",
      "source": [
        "t,s=sp.symbols(\"t s\")\n",
        "T1,T2,T3=sp.symbols(\"T_{1} T_{2} T_{3}\")\n",
        "A1=Cuarto(0.725*25,T1,sp.symbols(\"T_{i1}\"))\n",
        "B1=Cuarto(0.725*25,T2,0)\n",
        "C1=Cuarto(0.725*25,T3,sp.symbols(\"T_{i2}\"))\n",
        "\n",
        "A1.adyacentes=[(B1,resistencias_termicas[\"Drywall\"])]\n",
        "B1.adyacentes=[(A1,resistencias_termicas[\"Drywall\"]),(C1,resistencias_termicas[\"Ladrillo\"])]\n",
        "C1.adyacentes=[(A1,resistencias_termicas[\"Ladrillo\"])]\n",
        "\n",
        "nodos=[A1,B1,C1]"
      ],
      "metadata": {
        "id": "qUQpA5-3ROwT"
      },
      "execution_count": 4,
      "outputs": []
    },
    {
      "cell_type": "code",
      "source": [
        "nodos[1].eq()"
      ],
      "metadata": {
        "id": "LbdpgR5PsNQ2",
        "outputId": "52204395-5094-42ad-fcc7-13e74a4114e1",
        "colab": {
          "base_uri": "https://localhost:8080/",
          "height": 52
        }
      },
      "execution_count": 5,
      "outputs": [
        {
          "output_type": "execute_result",
          "data": {
            "text/plain": [
              "36028797018963968*T_{1}/85545874921902575 - 129807421463370697919021812023296*T_{2}/106332966236296333620382700511775 + 144115188075855872*T_{3}/180234057087367265"
            ],
            "text/latex": "$\\displaystyle \\frac{36028797018963968 T_{1}}{85545874921902575} - \\frac{129807421463370697919021812023296 T_{2}}{106332966236296333620382700511775} + \\frac{144115188075855872 T_{3}}{180234057087367265}$"
          },
          "metadata": {},
          "execution_count": 5
        }
      ]
    },
    {
      "cell_type": "code",
      "source": [
        "variables=sp.symbols(\"T_{1} T_{2} T_{3}\")\n",
        "entradas=[sp.symbols(\"T_{i1}\"),sp.symbols(\"T_{i2}\")]\n",
        "A=[]\n",
        "B=[]\n",
        "for i in range(len(nodos)):\n",
        "  A.append([])\n",
        "  B.append([])\n",
        "  eq=nodos[i].eq()\n",
        "  for j in range(len(variables)):\n",
        "    A[-1].append(eq.coeff(variables[j]))\n",
        "  for j in range(len(entradas)):\n",
        "    B[-1].append(eq.coeff(entradas[j]))\n",
        "\n",
        "A=sp.N(sp.Matrix(A),2)\n",
        "B=sp.N(sp.Matrix(B),2)\n",
        "C=sp.Matrix([[1 for i in range(A.shape[0])]])\n",
        "A,B"
      ],
      "metadata": {
        "id": "jPpZEuCkp6_P",
        "outputId": "c8dde2ca-d434-42a3-c4fb-e07a043170d3",
        "colab": {
          "base_uri": "https://localhost:8080/"
        }
      },
      "execution_count": 60,
      "outputs": [
        {
          "output_type": "execute_result",
          "data": {
            "text/plain": [
              "(Matrix([\n",
              " [-0.48, 0.42,     0],\n",
              " [ 0.42, -1.2,   0.8],\n",
              " [  0.8,    0, -0.85]]),\n",
              " Matrix([\n",
              " [0.055,     0],\n",
              " [    0,     0],\n",
              " [    0, 0.055]]))"
            ]
          },
          "metadata": {},
          "execution_count": 60
        }
      ]
    },
    {
      "cell_type": "code",
      "source": [
        "class Edificio:\n",
        "  pass"
      ],
      "metadata": {
        "id": "gbe-TCCgaczg"
      },
      "execution_count": null,
      "outputs": []
    },
    {
      "cell_type": "markdown",
      "source": [
        "r"
      ],
      "metadata": {
        "id": "EG4e4z79GbHN"
      }
    },
    {
      "cell_type": "code",
      "source": [
        "def eAt(A,t):\n",
        "  T,D=sp.N(A,2).diagonalize()\n",
        "  return T*sp.exp(D*t)*T.inv()"
      ],
      "metadata": {
        "id": "u5bxwtgwdcgQ"
      },
      "execution_count": 61,
      "outputs": []
    },
    {
      "cell_type": "code",
      "source": [
        "x0=sp.Matrix([[0],[0],[0]])\n",
        "u=sp.Matrix([[50],[30]])"
      ],
      "metadata": {
        "id": "5-g57CsmyNwd"
      },
      "execution_count": 62,
      "outputs": []
    },
    {
      "cell_type": "code",
      "source": [
        "def solucionTiempo(A,B,x0,u):\n",
        "  t=sp.symbols(\"t\")\n",
        "  EAT=eAt(A,t)\n",
        "  tau=sp.symbols(\"\\tau\") \n",
        "  return EAT*x0+sp.integrate(EAT.subs(t,tau)*B*u.subs(t,t-tau),(tau,0,t))"
      ],
      "metadata": {
        "id": "oUCcklPJgFwX"
      },
      "execution_count": 63,
      "outputs": []
    },
    {
      "cell_type": "code",
      "source": [
        "def solucionFrecuencia(A,B,x0,u):\n",
        "  t,s=sp.symbols(\"t s\")\n",
        "  U=sp.laplace_transform(u,t,s,noconds=True)\n",
        "  Y=(s*sp.eye(A.shape[0])-A).inv()@(x0+B*U)\n",
        "  sol=sp.inverse_laplace_transform(sp.expand(Y),s,t)\n",
        "  return sol\n"
      ],
      "metadata": {
        "id": "jzCBeSbsw4Mb"
      },
      "execution_count": 11,
      "outputs": []
    },
    {
      "cell_type": "code",
      "source": [
        "sol=solucionFrecuencia(A,B,x0,u)\n",
        "sol\n",
        "sp.N(sol[0].subs(t,10))"
      ],
      "metadata": {
        "id": "b0-ELpcPyCj2"
      },
      "execution_count": null,
      "outputs": []
    },
    {
      "cell_type": "code",
      "source": [
        "sol=solucionTiempo(A,B,x0,u)\n",
        "sol\n",
        "sp.N(sol[0].subs(t,10))"
      ],
      "metadata": {
        "colab": {
          "base_uri": "https://localhost:8080/",
          "height": 38
        },
        "id": "aNCd25dlgZbs",
        "outputId": "407c8f4f-358b-4648-9137-0f10298cb6eb"
      },
      "execution_count": 65,
      "outputs": [
        {
          "output_type": "execute_result",
          "data": {
            "text/plain": [
              "16.2347970956638 + 2.03344589e-11*I"
            ],
            "text/latex": "$\\displaystyle 16.2347970956638 + 2.03344589 \\cdot 10^{-11} i$"
          },
          "metadata": {},
          "execution_count": 65
        }
      ]
    },
    {
      "cell_type": "code",
      "source": [
        "sp.N(sol[2].subs(t,1000))"
      ],
      "metadata": {
        "id": "1BfnD9uhYXUn",
        "outputId": "169ad770-e433-48d1-c242-d17a5d9c5e19",
        "colab": {
          "base_uri": "https://localhost:8080/",
          "height": 38
        }
      },
      "execution_count": 66,
      "outputs": [
        {
          "output_type": "execute_result",
          "data": {
            "text/plain": [
              "43.9791618882929 + 2.853686648e-10*I"
            ],
            "text/latex": "$\\displaystyle 43.9791618882929 + 2.853686648 \\cdot 10^{-10} i$"
          },
          "metadata": {},
          "execution_count": 66
        }
      ]
    },
    {
      "cell_type": "code",
      "source": [
        "sp.plot(sol[2],(t,0,100))"
      ],
      "metadata": {
        "id": "8IT5pzpiBZOX",
        "colab": {
          "base_uri": "https://localhost:8080/",
          "height": 501
        },
        "outputId": "ed9da9f7-720c-4479-9208-d27ae15764dc"
      },
      "execution_count": 59,
      "outputs": [
        {
          "output_type": "display_data",
          "data": {
            "text/plain": [
              "<Figure size 640x480 with 1 Axes>"
            ],
            "image/png": "[encoded data removed]"
          },
          "metadata": {}
        },
        {
          "output_type": "execute_result",
          "data": {
            "text/plain": [
              "<sympy.plotting.plot.Plot at 0x7f07d93a1520>"
            ]
          },
          "metadata": {},
          "execution_count": 59
        }
      ]
    }
  ]
}