{
  "nbformat": 4,
  "nbformat_minor": 0,
  "metadata": {
    "colab": {
      "provenance": [],
      "include_colab_link": true
    },
    "kernelspec": {
      "name": "python3",
      "display_name": "Python 3"
    },
    "language_info": {
      "name": "python"
    }
  },
  "cells": [
    {
      "cell_type": "markdown",
      "metadata": {
        "id": "view-in-github",
        "colab_type": "text"
      },
      "source": [
        "<a href=\"https://colab.research.google.com/github/Michael-Jimenez-C/CieCom2/blob/main/proyecto_CII.ipynb\" target=\"_parent\"><img src=\"https://colab.research.google.com/assets/colab-badge.svg\" alt=\"Open In Colab\"/></a>"
      ]
    },
    {
      "cell_type": "code",
      "source": [
        "import sympy as sp"
      ],
      "metadata": {
        "id": "kET76UlkvGPm"
      },
      "execution_count": 1,
      "outputs": []
    },
    {
      "cell_type": "code",
      "execution_count": 2,
      "metadata": {
        "id": "1Xe32AipxY46"
      },
      "outputs": [],
      "source": [
        "class Cuarto:\n",
        "  def __init__(self,capacitancia,temperatura,fuente=0,Rfuente=1):\n",
        "    t=sp.symbols(\"t\")\n",
        "    self.temperatura=temperatura\n",
        "    self.adyacentes=[]#[(nodo,resistencia)]\n",
        "    self.capacitancia=capacitancia\n",
        "    self.fuente=fuente\n",
        "    self.Rfuente=Rfuente\n",
        "  def eq(self):\n",
        "    equ=0\n",
        "    if type(self.fuente)!=list:\n",
        "      equ+=(self.fuente-self.temperatura if self.fuente!=0 else 0)/self.Rfuente\n",
        "    else:\n",
        "      for i,j in zip(self.fuente,self.Rfuente):\n",
        "        equ+=(i-self.temperatura if i!=0 else 0)/j\n",
        "    for i in self.adyacentes:\n",
        "      equ+=(i[0].temperatura-self.temperatura)*sp.Rational(1,i[1])\n",
        "    return sp.simplify(equ*sp.Rational(1,self.capacitancia))"
      ]
    },
    {
      "cell_type": "markdown",
      "source": [
        "aire\n",
        "$$C_a=(\\rho*V)*c=\\approx 0.29kcal/m^3*V$$\n",
        "$\\rho=\\frac{P_s}{287.058j/(kg*K)\\cdot T_a}=\\text{densidad del aire}\\approx1.2kg/m^3$\n",
        "\n",
        "$c\\approx0.24$\n",
        "\n",
        "No varía significativamente entre 0 y 40 grados, y la variación entre aire humedo y seco no es muy significativa\n",
        "\n",
        "Agua\n",
        "\n",
        "$$C_a\\approx1000kcal/m^3$$\n",
        "$c=1$"
      ],
      "metadata": {
        "id": "1AcC_AtZSv4K"
      }
    },
    {
      "cell_type": "markdown",
      "source": [
        "Suponiendo pisos de 2.5m de alto:\n",
        "$C_a=0.725kcal/m^2*A$"
      ],
      "metadata": {
        "id": "HYIEFYH8UpiL"
      }
    },
    {
      "cell_type": "code",
      "source": [
        "resistencias_termicas = {\n",
        "    'Ladrillo': 0.069, # en m²K/W\n",
        "    'Bloque de concreto': 0.110,\n",
        "    'Hormigón': 0.800,\n",
        "    'Fibra de vidrio': 3.040,\n",
        "    'Lana mineral': 2.800,\n",
        "    'Poliestireno expandido': 0.038,\n",
        "    'Poliestireno extruido': 0.035,\n",
        "    'Aislamiento de celulosa': 0.050,\n",
        "    'Aislamiento de corcho': 0.043,\n",
        "    'Aislamiento de lana de oveja': 0.045,\n",
        "    'Aislamiento de fibra de cáñamo': 0.044,\n",
        "    'Drywall': 0.131\n",
        "}\n"
      ],
      "metadata": {
        "id": "-QkWHmksVuhI"
      },
      "execution_count": 3,
      "outputs": []
    },
    {
      "cell_type": "code",
      "source": [
        "t,s=sp.symbols(\"t s\")\n",
        "T1,T2,T3=sp.symbols(\"T_{1} T_{2} T_{3}\")\n",
        "A1=Cuarto(0.725*2,T1,sp.symbols(\"T_{i1}\"))\n",
        "B1=Cuarto(0.725*25,T2,0)\n",
        "C1=Cuarto(0.725*120,T3,sp.symbols(\"T_{i2}\"),Rfuente=resistencias_termicas[\"Drywall\"])\n",
        "\n",
        "A1.adyacentes=[(B1,resistencias_termicas[\"Drywall\"])]\n",
        "B1.adyacentes=[(A1,resistencias_termicas[\"Drywall\"]),(C1,resistencias_termicas[\"Ladrillo\"])]\n",
        "C1.adyacentes=[(A1,resistencias_termicas[\"Ladrillo\"])]\n",
        "\n",
        "nodos=[A1,B1,C1]"
      ],
      "metadata": {
        "id": "qUQpA5-3ROwT"
      },
      "execution_count": 156,
      "outputs": []
    },
    {
      "cell_type": "code",
      "source": [
        "variables=sp.symbols(\"T_{1} T_{2} T_{3}\")\n",
        "entradas=sp.symbols(\"T_{i1} T_{i2}\")\n",
        "A=[]\n",
        "B=[]\n",
        "for i in range(len(nodos)):\n",
        "  A.append([])\n",
        "  B.append([])\n",
        "  eq=nodos[i].eq()\n",
        "  for j in range(len(variables)):\n",
        "    A[-1].append(eq.coeff(variables[j]))\n",
        "  for j in range(len(entradas)):\n",
        "    B[-1].append(eq.coeff(entradas[j]))\n",
        "\n",
        "A=sp.N(sp.Matrix(A),2)\n",
        "B=sp.N(sp.Matrix(B),2)\n",
        "A,B"
      ],
      "metadata": {
        "id": "jPpZEuCkp6_P",
        "outputId": "c2df4048-d76d-4010-d5c5-03c702b20010",
        "colab": {
          "base_uri": "https://localhost:8080/"
        }
      },
      "execution_count": 157,
      "outputs": [
        {
          "output_type": "execute_result",
          "data": {
            "text/plain": [
              "(Matrix([\n",
              " [-6.0,  5.3,     0],\n",
              " [0.42, -1.2,   0.8],\n",
              " [0.17,    0, -0.25]]),\n",
              " Matrix([\n",
              " [0.69,     0],\n",
              " [   0,     0],\n",
              " [   0, 0.088]]))"
            ]
          },
          "metadata": {},
          "execution_count": 157
        }
      ]
    },
    {
      "cell_type": "code",
      "source": [
        "class Edificio:\n",
        "  pass"
      ],
      "metadata": {
        "id": "gbe-TCCgaczg"
      },
      "execution_count": 158,
      "outputs": []
    },
    {
      "cell_type": "markdown",
      "source": [
        "r"
      ],
      "metadata": {
        "id": "EG4e4z79GbHN"
      }
    },
    {
      "cell_type": "code",
      "source": [
        "def eAt(A,t):\n",
        "  T,D=sp.N(A,2).diagonalize()\n",
        "  return T*sp.exp(D*t)*T.inv()"
      ],
      "metadata": {
        "id": "u5bxwtgwdcgQ"
      },
      "execution_count": 159,
      "outputs": []
    },
    {
      "cell_type": "code",
      "source": [
        "x0=sp.Matrix([[15],[15],[15]])\n",
        "u=sp.Matrix([[30],[15]])"
      ],
      "metadata": {
        "id": "5-g57CsmyNwd"
      },
      "execution_count": 167,
      "outputs": []
    },
    {
      "cell_type": "code",
      "source": [
        "def solucionTiempo(A,B,x0,u):\n",
        "  t=sp.symbols(\"t\")\n",
        "  EAT=eAt(A,t)\n",
        "  tau=sp.symbols(\"\\tau\") \n",
        "  return EAT*x0+sp.integrate(EAT.subs(t,tau)*B*u.subs(t,t-tau),(tau,0,t))"
      ],
      "metadata": {
        "id": "oUCcklPJgFwX"
      },
      "execution_count": 161,
      "outputs": []
    },
    {
      "cell_type": "code",
      "source": [
        "def solucionFrecuencia(A,B,x0,u):\n",
        "  t,s=sp.symbols(\"t s\")\n",
        "  U=sp.laplace_transform(u,t,s,noconds=True)\n",
        "  Y=(s*sp.eye(A.shape[0])-A).inv()@(x0+B*U)\n",
        "  sol=sp.inverse_laplace_transform(sp.expand(Y),s,t)\n",
        "  return sol\n"
      ],
      "metadata": {
        "id": "jzCBeSbsw4Mb"
      },
      "execution_count": 162,
      "outputs": []
    },
    {
      "cell_type": "code",
      "source": [
        "sol=solucionFrecuencia(A,B,x0,u)\n",
        "sol\n",
        "sp.N(sol[0].subs(t,10))"
      ],
      "metadata": {
        "id": "b0-ELpcPyCj2"
      },
      "execution_count": null,
      "outputs": []
    },
    {
      "cell_type": "code",
      "source": [
        "sol=solucionTiempo(A,B,x0,u)\n",
        "sol\n",
        "sp.N(sol[0].subs(t,10))"
      ],
      "metadata": {
        "colab": {
          "base_uri": "https://localhost:8080/",
          "height": 37
        },
        "id": "aNCd25dlgZbs",
        "outputId": "8b89bd00-2f16-48be-ba50-c3862dcfce5f"
      },
      "execution_count": 168,
      "outputs": [
        {
          "output_type": "execute_result",
          "data": {
            "text/plain": [
              "19.1097891646391"
            ],
            "text/latex": "$\\displaystyle 19.1097891646391$"
          },
          "metadata": {},
          "execution_count": 168
        }
      ]
    },
    {
      "cell_type": "code",
      "source": [
        "sp.N(sol[0].subs(t,1000))"
      ],
      "metadata": {
        "colab": {
          "base_uri": "https://localhost:8080/",
          "height": 37
        },
        "id": "1BfnD9uhYXUn",
        "outputId": "fc158937-c087-4af7-cf3a-386ebfba2f1a"
      },
      "execution_count": 169,
      "outputs": [
        {
          "output_type": "execute_result",
          "data": {
            "text/plain": [
              "20.5049365364399"
            ],
            "text/latex": "$\\displaystyle 20.5049365364399$"
          },
          "metadata": {},
          "execution_count": 169
        }
      ]
    },
    {
      "cell_type": "code",
      "source": [
        "sp.plot(sol[0],sol[1],sol[2],(t,0,100))"
      ],
      "metadata": {
        "id": "8IT5pzpiBZOX",
        "colab": {
          "base_uri": "https://localhost:8080/",
          "height": 504
        },
        "outputId": "a0517cdc-aeda-4f61-ca98-43f6d0d86bc5"
      },
      "execution_count": 170,
      "outputs": [
        {
          "output_type": "display_data",
          "data": {
            "text/plain": [
              "<Figure size 640x480 with 1 Axes>"
            ],
            "image/png": "[encoded data removed]"
          },
          "metadata": {}
        },
        {
          "output_type": "execute_result",
          "data": {
            "text/plain": [
              "<sympy.plotting.plot.Plot at 0x7f07e1281e80>"
            ]
          },
          "metadata": {},
          "execution_count": 170
        }
      ]
    }
  ]
}