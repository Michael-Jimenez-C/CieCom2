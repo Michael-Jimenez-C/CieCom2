{
  "nbformat": 4,
  "nbformat_minor": 0,
  "metadata": {
    "colab": {
      "provenance": [],
      "include_colab_link": true
    },
    "kernelspec": {
      "name": "python3",
      "display_name": "Python 3"
    },
    "language_info": {
      "name": "python"
    }
  },
  "cells": [
    {
      "cell_type": "markdown",
      "metadata": {
        "id": "view-in-github",
        "colab_type": "text"
      },
      "source": [
        "<a href=\"https://colab.research.google.com/github/Michael-Jimenez-C/CieCom2/blob/main/proyecto_CII.ipynb\" target=\"_parent\"><img src=\"https://colab.research.google.com/assets/colab-badge.svg\" alt=\"Open In Colab\"/></a>"
      ]
    },
    {
      "cell_type": "code",
      "source": [
        "import sympy as sp\n",
        "import numpy as np\n",
        "sp.init_session()"
      ],
      "metadata": {
        "id": "kET76UlkvGPm",
        "outputId": "825d0b73-b274-4c77-80f8-59a6d845dcc1",
        "colab": {
          "base_uri": "https://localhost:8080/"
        }
      },
      "execution_count": 115,
      "outputs": [
        {
          "output_type": "stream",
          "name": "stdout",
          "text": [
            "IPython console for SymPy 1.11.1 (Python 3.9.16-64-bit) (ground types: python)\n",
            "\n",
            "These commands were executed:\n",
            ">>> from sympy import *\n",
            ">>> x, y, z, t = symbols('x y z t')\n",
            ">>> k, m, n = symbols('k m n', integer=True)\n",
            ">>> f, g, h = symbols('f g h', cls=Function)\n",
            ">>> init_printing()\n",
            "\n",
            "Documentation can be found at https://docs.sympy.org/1.11.1/\n",
            "\n"
          ]
        }
      ]
    },
    {
      "cell_type": "code",
      "execution_count": 2,
      "metadata": {
        "id": "1Xe32AipxY46"
      },
      "outputs": [],
      "source": [
        "class Cuarto:\n",
        "  def __init__(self,capacitancia,temperatura,fuente=0,Rfuente=1):\n",
        "    t=sp.symbols(\"t\")\n",
        "    self.temperatura=temperatura\n",
        "    self.adyacentes=[]#[(nodo,resistencia)]\n",
        "    self.capacitancia=capacitancia\n",
        "    self.fuente=fuente\n",
        "    self.Rfuente=Rfuente\n",
        "  def eq(self):\n",
        "    equ=0\n",
        "    if type(self.fuente)!=list:\n",
        "      equ+=(self.fuente-self.temperatura if self.fuente!=0 else 0)/self.Rfuente\n",
        "    else:\n",
        "      for i,j in zip(self.fuente,self.Rfuente):\n",
        "        equ+=(i-self.temperatura if i!=0 else 0)/j\n",
        "    for i in self.adyacentes:\n",
        "      equ+=(i[0].temperatura-self.temperatura)*sp.Rational(1,i[1])\n",
        "    return sp.simplify(equ*sp.Rational(1,self.capacitancia))"
      ]
    },
    {
      "cell_type": "code",
      "source": [
        "t,s=sp.symbols(\"t s\")\n",
        "T1,T2,T3=sp.symbols(\"T_{1} T_{2} T_{3}\")\n",
        "A1=Cuarto(10,T1,sp.symbols(\"T_{i1}\"))\n",
        "B1=Cuarto(5,T2,0)\n",
        "C1=Cuarto(10,T3,0)\n",
        "\n",
        "A1.adyacentes=[(B1,15)]\n",
        "B1.adyacentes=[(A1,11),(C1,20)]\n",
        "C1.adyacentes=[(A1,20)]\n",
        "\n",
        "nodos=[A1,B1,C1]"
      ],
      "metadata": {
        "id": "qUQpA5-3ROwT"
      },
      "execution_count": 3,
      "outputs": []
    },
    {
      "cell_type": "code",
      "source": [
        "nodos[1].eq()"
      ],
      "metadata": {
        "id": "LbdpgR5PsNQ2",
        "outputId": "914438e3-89a2-4cfe-ba7e-b73614bf35f9",
        "colab": {
          "base_uri": "https://localhost:8080/",
          "height": 52
        }
      },
      "execution_count": 4,
      "outputs": [
        {
          "output_type": "execute_result",
          "data": {
            "text/plain": [
              "T_{1}/55 - 31*T_{2}/1100 + T_{3}/100"
            ],
            "text/latex": "$\\displaystyle \\frac{T_{1}}{55} - \\frac{31 T_{2}}{1100} + \\frac{T_{3}}{100}$"
          },
          "metadata": {},
          "execution_count": 4
        }
      ]
    },
    {
      "cell_type": "code",
      "source": [
        "\n",
        "variables=sp.symbols(\"T_{1} T_{2} T_{3}\")\n",
        "entradas=[sp.symbols(\"T_{i1}\")]\n",
        "A=[]\n",
        "B=[]\n",
        "for i in range(len(nodos)):\n",
        "  A.append([])\n",
        "  B.append([])\n",
        "  eq=nodos[i].eq()\n",
        "  for j in range(len(variables)):\n",
        "    A[-1].append(eq.coeff(variables[j]))\n",
        "  for j in range(len(entradas)):\n",
        "    B[-1].append(eq.coeff(entradas[j]))\n",
        "\n",
        "A=sp.Matrix(A)\n",
        "B=sp.Matrix(B)\n",
        "C=sp.Matrix([[1 for i in range(A.shape[0])]])\n",
        "A,B"
      ],
      "metadata": {
        "id": "jPpZEuCkp6_P",
        "outputId": "00888cc4-e316-4969-bd9a-5472297a0a3e",
        "colab": {
          "base_uri": "https://localhost:8080/",
          "height": 78
        }
      },
      "execution_count": 165,
      "outputs": [
        {
          "output_type": "execute_result",
          "data": {
            "text/plain": [
              "⎛⎡-8/75  1/150    0   ⎤        ⎞\n",
              "⎜⎢                    ⎥  ⎡1/10⎤⎟\n",
              "⎜⎢       -31          ⎥  ⎢    ⎥⎟\n",
              "⎜⎢1/55   ────   1/100 ⎥, ⎢ 0  ⎥⎟\n",
              "⎜⎢       1100         ⎥  ⎢    ⎥⎟\n",
              "⎜⎢                    ⎥  ⎣ 0  ⎦⎟\n",
              "⎝⎣1/200    0    -1/200⎦        ⎠"
            ],
            "text/latex": "$\\displaystyle \\left( \\left[\\begin{matrix}- \\frac{8}{75} & \\frac{1}{150} & 0\\\\\\frac{1}{55} & - \\frac{31}{1100} & \\frac{1}{100}\\\\\\frac{1}{200} & 0 & - \\frac{1}{200}\\end{matrix}\\right], \\  \\left[\\begin{matrix}\\frac{1}{10}\\\\0\\\\0\\end{matrix}\\right]\\right)$"
          },
          "metadata": {},
          "execution_count": 165
        }
      ]
    },
    {
      "cell_type": "code",
      "source": [
        "class Edificio:\n",
        "  pass"
      ],
      "metadata": {
        "id": "gbe-TCCgaczg"
      },
      "execution_count": null,
      "outputs": []
    },
    {
      "cell_type": "markdown",
      "source": [
        "r"
      ],
      "metadata": {
        "id": "EG4e4z79GbHN"
      }
    },
    {
      "cell_type": "code",
      "source": [
        "def eAt(A,t):\n",
        "  T,D=sp.N(A,2).diagonalize()\n",
        "  return T*sp.exp(D*t)*T.inv()"
      ],
      "metadata": {
        "id": "u5bxwtgwdcgQ"
      },
      "execution_count": 171,
      "outputs": []
    },
    {
      "cell_type": "code",
      "source": [
        "eAt(A,t)"
      ],
      "metadata": {
        "id": "ojctdn3IUNfc",
        "outputId": "5b68e944-b7d7-4b5a-8b2a-dc1b1c5495f0",
        "colab": {
          "base_uri": "https://localhost:8080/",
          "height": 98
        }
      },
      "execution_count": 173,
      "outputs": [
        {
          "output_type": "execute_result",
          "data": {
            "text/plain": [
              "⎡                    -0.108165144920349⋅t                       -0.02683982253\n",
              "⎢ 0.982264496412163⋅ℯ                     + 0.0162186547024561⋅ℯ              \n",
              "⎢                                                                             \n",
              "⎢                      -0.108165144920349⋅t                      -0.0268398225\n",
              "⎢ - 0.217384798860847⋅ℯ                     + 0.194218234026722⋅ℯ             \n",
              "⎢                                                                             \n",
              "⎢                     -0.108165144920349⋅t                        -0.026839822\n",
              "⎣- 0.047579113397671⋅ℯ                     - 0.00371062623226229⋅ℯ            \n",
              "\n",
              "07465⋅t                        -0.00484947115182877⋅t                         \n",
              "        + 0.00151684888538071⋅ℯ                         - 0.0818747914509728⋅ℯ\n",
              "                                                                              \n",
              "307465⋅t                       -0.00484947115182877⋅t                         \n",
              "         + 0.0231665648341251⋅ℯ                           0.0181196970229037⋅ℯ\n",
              "                                                                              \n",
              "5307465⋅t                       -0.00484947115182877⋅t                        \n",
              "          + 0.0512897396299333⋅ℯ                          0.0039658666286783⋅ℯ\n",
              "\n",
              "-0.108165144920349⋅t                       -0.0268398225307465⋅t              \n",
              "                     + 0.0814410329410616⋅ℯ                      + 0.000433758\n",
              "                                                                              \n",
              "-0.108165144920349⋅t                      -0.0268398225307465⋅t               \n",
              "                     + 0.975255585947561⋅ℯ                      + 0.0066247170\n",
              "                                                                              \n",
              "-0.108165144920349⋅t                       -0.0268398225307465⋅t              \n",
              "                     - 0.0186326941881237⋅ℯ                      + 0.014666827\n",
              "\n",
              "           -0.00484947115182877⋅t                        -0.108165144920349⋅t \n",
              "509911252⋅ℯ                         0.00793162259806395⋅ℯ                     \n",
              "                                                                              \n",
              "         -0.00484947115182877⋅t                            -0.108165144920349⋅\n",
              "2953481⋅ℯ                           - 0.00175534613071955⋅ℯ                   \n",
              "                                                                              \n",
              "         -0.00484947115182877⋅t                            -0.108165144920349⋅\n",
              "5594454⋅ℯ                          - 0.000384193435066866⋅ℯ                   \n",
              "\n",
              "                      -0.0268398225307465⋅t                       -0.004849471\n",
              "- 0.0372649623859575⋅ℯ                      + 0.0293333397878935⋅ℯ            \n",
              "                                                                              \n",
              "t                      -0.0268398225307465⋅t                      -0.004849471\n",
              "  - 0.446247566055945⋅ℯ                      + 0.448002912186665⋅ℯ            \n",
              "                                                                              \n",
              "t                        -0.0268398225307465⋅t                      -0.0048494\n",
              "  + 0.00852575934998239⋅ℯ                      + 0.991858434085084⋅ℯ          \n",
              "\n",
              "15182877⋅t  ⎤\n",
              "            ⎥\n",
              "            ⎥\n",
              "15182877⋅t  ⎥\n",
              "            ⎥\n",
              "            ⎥\n",
              "7115182877⋅t⎥\n",
              "            ⎦"
            ],
            "text/latex": "$\\displaystyle \\left[\\begin{matrix}0.982264496412163 e^{- 0.108165144920349 t} + 0.0162186547024561 e^{- 0.0268398225307465 t} + 0.00151684888538071 e^{- 0.00484947115182877 t} & - 0.0818747914509728 e^{- 0.108165144920349 t} + 0.0814410329410616 e^{- 0.0268398225307465 t} + 0.000433758509911252 e^{- 0.00484947115182877 t} & 0.00793162259806395 e^{- 0.108165144920349 t} - 0.0372649623859575 e^{- 0.0268398225307465 t} + 0.0293333397878935 e^{- 0.00484947115182877 t}\\\\- 0.217384798860847 e^{- 0.108165144920349 t} + 0.194218234026722 e^{- 0.0268398225307465 t} + 0.0231665648341251 e^{- 0.00484947115182877 t} & 0.0181196970229037 e^{- 0.108165144920349 t} + 0.975255585947561 e^{- 0.0268398225307465 t} + 0.00662471702953481 e^{- 0.00484947115182877 t} & - 0.00175534613071955 e^{- 0.108165144920349 t} - 0.446247566055945 e^{- 0.0268398225307465 t} + 0.448002912186665 e^{- 0.00484947115182877 t}\\\\- 0.047579113397671 e^{- 0.108165144920349 t} - 0.00371062623226229 e^{- 0.0268398225307465 t} + 0.0512897396299333 e^{- 0.00484947115182877 t} & 0.0039658666286783 e^{- 0.108165144920349 t} - 0.0186326941881237 e^{- 0.0268398225307465 t} + 0.0146668275594454 e^{- 0.00484947115182877 t} & - 0.000384193435066866 e^{- 0.108165144920349 t} + 0.00852575934998239 e^{- 0.0268398225307465 t} + 0.991858434085084 e^{- 0.00484947115182877 t}\\end{matrix}\\right]$"
          },
          "metadata": {},
          "execution_count": 173
        }
      ]
    },
    {
      "cell_type": "code",
      "source": [
        "x0=sp.Matrix([[0],[0],[0]])\n",
        "u=sp.Matrix([[5]])"
      ],
      "metadata": {
        "id": "5-g57CsmyNwd"
      },
      "execution_count": 180,
      "outputs": []
    },
    {
      "cell_type": "code",
      "source": [],
      "metadata": {
        "id": "JLxtCMYOet19"
      },
      "execution_count": 186,
      "outputs": []
    },
    {
      "cell_type": "code",
      "source": [],
      "metadata": {
        "id": "bkAx1hJteWQE",
        "outputId": "ce85e2af-613b-4039-f507-39df7373a8a3",
        "colab": {
          "base_uri": "https://localhost:8080/",
          "height": 58
        }
      },
      "execution_count": 187,
      "outputs": [
        {
          "output_type": "execute_result",
          "data": {
            "text/plain": [
              "⎡  ⎛             t        -t⎞             t        -t⎤\n",
              "⎢- ⎝1.0⋅t - 0.5⋅ℯ  + 0.5⋅ℯ  ⎠⋅θ(t) + 0.5⋅ℯ  - 0.5⋅ℯ  ⎥\n",
              "⎢                                                    ⎥\n",
              "⎢            ⎛          -t⎞             -t           ⎥\n",
              "⎣          - ⎝-t + 1 - ℯ  ⎠⋅θ(t) + 1.0⋅ℯ             ⎦"
            ],
            "text/latex": "$\\displaystyle \\left[\\begin{matrix}- \\left(1.0 t - 0.5 e^{t} + 0.5 e^{- t}\\right) \\theta\\left(t\\right) + 0.5 e^{t} - 0.5 e^{- t}\\\\- 1.0 \\left(- t + 1 - e^{- t}\\right) \\theta\\left(t\\right) + 1.0 e^{- t}\\end{matrix}\\right]$"
          },
          "metadata": {},
          "execution_count": 187
        }
      ]
    },
    {
      "cell_type": "code",
      "source": [
        "t,s=sp.symbols(\"t s\")\n",
        "\n",
        "A=sp.Matrix([[1,1],[0,-1]])\n",
        "B=sp.Matrix([[0],[1]])\n",
        "x0=sp.Matrix([[0],[1]])\n",
        "u=sp.Matrix([[sp.Heaviside(t)*t]])"
      ],
      "metadata": {
        "id": "G8JUhpRJAiy6"
      },
      "execution_count": 197,
      "outputs": []
    },
    {
      "cell_type": "code",
      "source": [
        "def solucionTiempo(A,B,x0,u):\n",
        "  t=sp.symbols(\"t\")\n",
        "  EAT=eAt(A,t)\n",
        "  tau=sp.symbols(\"\\tau\") \n",
        "  return EAT*x0+sp.integrate(EAT.subs(t,tau)*B*u.subs(t,t-tau),(tau,0,t))"
      ],
      "metadata": {
        "id": "oUCcklPJgFwX"
      },
      "execution_count": 198,
      "outputs": []
    },
    {
      "cell_type": "code",
      "source": [
        "def solucionFrecuencia(A,B,x0,u):\n",
        "  t,s=sp.symbols(\"t s\")\n",
        "  U=sp.laplace_transform(u,t,s,noconds=True)\n",
        "  Y=(s*sp.eye(A.shape[0])-A).inv()@(x0+B*U)\n",
        "  sol=sp.inverse_laplace_transform(sp.expand(Y),s,t)\n",
        "  return sol\n"
      ],
      "metadata": {
        "id": "jzCBeSbsw4Mb"
      },
      "execution_count": 194,
      "outputs": []
    },
    {
      "cell_type": "code",
      "source": [
        "sol=solucionFrecuencia(A,B,x0,u)\n",
        "sol\n",
        "sp.N(sol[0].subs(t,10))"
      ],
      "metadata": {
        "id": "b0-ELpcPyCj2",
        "outputId": "d2020fc5-9ab4-4d0d-bcec-a236d3c60157",
        "colab": {
          "base_uri": "https://localhost:8080/",
          "height": 72
        }
      },
      "execution_count": 212,
      "outputs": [
        {
          "output_type": "stream",
          "name": "stdout",
          "text": [
            "u Matrix([[t*Heaviside(t)]])\n",
            "y Matrix([[(1 + s**(-2))/(s**2 - 1)], [(1 + s**(-2))/(s + 1)]])\n"
          ]
        },
        {
          "output_type": "execute_result",
          "data": {
            "text/plain": [
              "22016.4657494068"
            ],
            "text/latex": "$\\displaystyle 22016.4657494068$"
          },
          "metadata": {},
          "execution_count": 212
        }
      ]
    },
    {
      "cell_type": "code",
      "source": [
        "sol=solucionTiempo(A,B,x0,u)\n",
        "sol\n",
        "sp.N(sol[0].subs(t,10))"
      ],
      "metadata": {
        "id": "aNCd25dlgZbs",
        "outputId": "2b5ea679-b8a2-48ac-ff06-f7fa157261de",
        "colab": {
          "base_uri": "https://localhost:8080/",
          "height": 37
        }
      },
      "execution_count": 213,
      "outputs": [
        {
          "output_type": "execute_result",
          "data": {
            "text/plain": [
              "22016.4657494068"
            ],
            "text/latex": "$\\displaystyle 22016.4657494068$"
          },
          "metadata": {},
          "execution_count": 213
        }
      ]
    },
    {
      "cell_type": "code",
      "source": [
        "sp.plot(sol[0],0,100)"
      ],
      "metadata": {
        "id": "8IT5pzpiBZOX",
        "outputId": "3a51f578-e5a6-4891-d75e-57f4dd561039",
        "colab": {
          "base_uri": "https://localhost:8080/"
        }
      },
      "execution_count": 209,
      "outputs": [
        {
          "output_type": "execute_result",
          "data": {
            "text/plain": [
              "<sympy.plotting.plot.Plot at 0x7f3ae774b550>"
            ]
          },
          "metadata": {},
          "execution_count": 209
        }
      ]
    }
  ]
}