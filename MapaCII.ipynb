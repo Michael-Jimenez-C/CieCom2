{
  "nbformat": 4,
  "nbformat_minor": 0,
  "metadata": {
    "colab": {
      "provenance": [],
      "include_colab_link": true
    },
    "kernelspec": {
      "name": "python3",
      "display_name": "Python 3"
    },
    "language_info": {
      "name": "python"
    }
  },
  "cells": [
    {
      "cell_type": "markdown",
      "metadata": {
        "id": "view-in-github",
        "colab_type": "text"
      },
      "source": [
        "<a href=\"https://colab.research.google.com/github/Michael-Jimenez-C/CieCom2/blob/main/MapaCII.ipynb\" target=\"_parent\"><img src=\"https://colab.research.google.com/assets/colab-badge.svg\" alt=\"Open In Colab\"/></a>"
      ]
    },
    {
      "cell_type": "code",
      "execution_count": 1,
      "metadata": {
        "colab": {
          "base_uri": "https://localhost:8080/"
        },
        "id": "2EpWyf0psOkT",
        "outputId": "fe4f5419-3859-4e56-b08a-ccf7e988f2f4"
      },
      "outputs": [
        {
          "output_type": "stream",
          "name": "stdout",
          "text": [
            "Looking in indexes: https://pypi.org/simple, https://us-python.pkg.dev/colab-wheels/public/simple/\n",
            "Requirement already satisfied: folium in /usr/local/lib/python3.9/dist-packages (0.14.0)\n",
            "Requirement already satisfied: numpy in /usr/local/lib/python3.9/dist-packages (from folium) (1.22.4)\n",
            "Requirement already satisfied: jinja2>=2.9 in /usr/local/lib/python3.9/dist-packages (from folium) (3.1.2)\n",
            "Requirement already satisfied: branca>=0.6.0 in /usr/local/lib/python3.9/dist-packages (from folium) (0.6.0)\n",
            "Requirement already satisfied: requests in /usr/local/lib/python3.9/dist-packages (from folium) (2.27.1)\n",
            "Requirement already satisfied: MarkupSafe>=2.0 in /usr/local/lib/python3.9/dist-packages (from jinja2>=2.9->folium) (2.1.2)\n",
            "Requirement already satisfied: charset-normalizer~=2.0.0 in /usr/local/lib/python3.9/dist-packages (from requests->folium) (2.0.12)\n",
            "Requirement already satisfied: urllib3<1.27,>=1.21.1 in /usr/local/lib/python3.9/dist-packages (from requests->folium) (1.26.15)\n",
            "Requirement already satisfied: idna<4,>=2.5 in /usr/local/lib/python3.9/dist-packages (from requests->folium) (3.4)\n",
            "Requirement already satisfied: certifi>=2017.4.17 in /usr/local/lib/python3.9/dist-packages (from requests->folium) (2022.12.7)\n"
          ]
        }
      ],
      "source": [
        "\n",
        "!pip install folium"
      ]
    },
    {
      "cell_type": "code",
      "source": [
        "import folium\n",
        "import numpy as np"
      ],
      "metadata": {
        "id": "IUm6JGhesdtO"
      },
      "execution_count": 2,
      "outputs": []
    },
    {
      "cell_type": "code",
      "source": [
        "m=folium.Map(location=[4.61,-74.082], zoom_start=10)\n",
        "\n",
        "puntos={\"Bogota\":[4.61,-74.082],\n",
        "        \"Soacha\":[4.583,-74.217],\n",
        "        \"Madrid\":[4.733,-74.267],\n",
        "        \"Facatativa\":[4.817,-74.367],\n",
        "        \"Fusagasuga\":[4.333,-74.35],\n",
        "        \"Funza\":[4.717,-74.217],\n",
        "        \"Chia\":[4.85,-74.05],\n",
        "        \"Zipaquira\":[5.02836,-73.9992],\n",
        "        \"Girardot\":[4.3,-74.8],\n",
        "        \"Villeta\":[5.017,-74.467],\n",
        "        \"Macheta\":[5.07983,-73.6072],\n",
        "        \"La Vega\":[4.99946,-74.3399],\n",
        "        \"Tocaima\":[4.45903,-74.634],\n",
        "        \"Mosquera\":[4.70612,-74.2307],\n",
        "        \"La Mesa\":[4.633,-74.467],\n",
        "        \"Cota\":[4.817,-74.1],\n",
        "        \"Gachancipa\":[4.99228,-73.8712],\n",
        "        \"La calera\":[4.717,-73.967],\n",
        "        \"Choachi\":[4.52748,-73.9257],\n",
        "        \"Chipaque\":[4.44294,-74.0445]}"
      ],
      "metadata": {
        "id": "DS25tdwksztA"
      },
      "execution_count": 3,
      "outputs": []
    },
    {
      "cell_type": "code",
      "source": [
        "c=lambda a: 2*np.arctan2(pow(a,1/2),pow(1-a,1/2))\n",
        "a=lambda lat1,long1,lat2,long2: pow(np.sin((lat2-lat1)/2),2)+np.cos(lat1)*np.cos(lat2)*pow(np.sin((long2-long1)/2),2)\n",
        "d=lambda A,B: 6378E1*c(a(A[0],A[1],B[0],B[1]))"
      ],
      "metadata": {
        "id": "bnsMLGCf2btQ"
      },
      "execution_count": 4,
      "outputs": []
    },
    {
      "cell_type": "code",
      "source": [
        "class Nodo:\n",
        "  def __init__(self,nombre,coordenadas):\n",
        "    self.nombre=nombre\n",
        "    self.coordenadas=coordenadas\n",
        "    self.conexiones=[]\n",
        "    self.status=0#0 no visitado, 1 visitado, 2 pendiente\n",
        "  \n",
        "  \n",
        "  def conectar(self,other):\n",
        "    d=lambda A,B: pow(pow(A[0]-B[0],2)+pow(A[1]-B[1],2),1/2)\n",
        "    if other not in self.conexiones:\n",
        "      self.conexiones.append((other,d(self.coordenadas,other.coordenadas)))\n",
        "    if self not in other.conexiones:\n",
        "      other.conexiones.append((self,d(self.coordenadas,other.coordenadas)))\n",
        "      \n",
        "  def clonar(self):\n",
        "    return \n",
        "  '''\n",
        "  def distancia(self,nombreNodo):\n",
        "    for i in self.conexiones:\n",
        "      if i[0].nombre==nombreNodo:\n",
        "        return  [i[0],i[1]]\n",
        "    distancia=np.infty\n",
        "    d=[]\n",
        "    for i in self.conexiones:\n",
        "      if i[0].status==1:\n",
        "        continue\n",
        "      self.status=1\n",
        "      k=i[0].distancia(nombreNodo)\n",
        "      if k!=None:\n",
        "        print(k[1])\n",
        "        distancia=np.minimum(distancia,i[1]+k[1])\n",
        "        d=[i[0]]\n",
        "        d.extend(k)\n",
        "    self.status=0\n",
        "    return [d,distancia]\n",
        "  '''\n",
        "\n",
        "  def dijkstra(self):\n",
        "    pass\n",
        "  def __repr__(self):\n",
        "    return self.nombre"
      ],
      "metadata": {
        "id": "LDS4kEquGF5c"
      },
      "execution_count": 5,
      "outputs": []
    },
    {
      "cell_type": "code",
      "source": [
        "A=Nodo(\"A\",(0,1))\n",
        "B=Nodo(\"B\",(1,2))\n",
        "C=Nodo(\"C\",(2,1))\n",
        "D=Nodo(\"D\",(3,3))\n",
        "E=Nodo(\"E\",(3,2))\n",
        "F=Nodo(\"F\",(4,0))\n",
        "G=Nodo(\"G\",(4,2))\n",
        "H=Nodo(\"H\",(4,3))"
      ],
      "metadata": {
        "id": "9dvIjCd-VNfQ"
      },
      "execution_count": 6,
      "outputs": []
    },
    {
      "cell_type": "code",
      "source": [
        "A.conectar(B)\n",
        "A.conectar(C)\n",
        "B.conectar(D)\n",
        "B.conectar(E)\n",
        "B.conectar(C)\n",
        "C.conectar(F)\n",
        "C.conectar(G)\n",
        "D.conectar(H)\n",
        "E.conectar(G)\n",
        "G.conectar(H)"
      ],
      "metadata": {
        "id": "VpkmBVQyXSY1"
      },
      "execution_count": 16,
      "outputs": []
    },
    {
      "cell_type": "code",
      "source": [
        "import matplotlib.pyplot as plt\n",
        "for i in [A,B,C,D,E,F,G,H]:\n",
        "  plt.scatter(i.coordenadas[0],i.coordenadas[1])"
      ],
      "metadata": {
        "id": "pbt_Pwwur5Gm",
        "outputId": "86752d29-8771-44b6-f7f1-83983c38851e",
        "colab": {
          "base_uri": "https://localhost:8080/",
          "height": 265
        }
      },
      "execution_count": 15,
      "outputs": [
        {
          "output_type": "display_data",
          "data": {
            "text/plain": [
              "<Figure size 432x288 with 1 Axes>"
            ],
            "image/png": "[encoded data removed]"
          },
          "metadata": {
            "needs_background": "light"
          }
        }
      ]
    },
    {
      "cell_type": "code",
      "source": [
        "A.distancia(\"H\")"
      ],
      "metadata": {
        "id": "VRDR2sczYIan",
        "outputId": "d25bb174-16af-4497-c044-ae26f0150c4c",
        "colab": {
          "base_uri": "https://localhost:8080/"
        }
      },
      "execution_count": 17,
      "outputs": [
        {
          "output_type": "stream",
          "name": "stdout",
          "text": [
            "1.0\n",
            "1.0\n",
            "1.0\n",
            "2.0\n",
            "inf\n",
            "1.0\n",
            "inf\n",
            "1.0\n",
            "3.23606797749979\n",
            "1.0\n",
            "1.0\n",
            "1.0\n",
            "2.0\n",
            "inf\n",
            "1.0\n",
            "inf\n",
            "1.0\n",
            "3.23606797749979\n",
            "3.23606797749979\n",
            "1.0\n",
            "inf\n",
            "1.0\n",
            "inf\n",
            "1.0\n",
            "3.23606797749979\n",
            "1.0\n",
            "inf\n",
            "1.0\n",
            "inf\n",
            "1.0\n",
            "3.23606797749979\n",
            "3.23606797749979\n",
            "1.0\n",
            "1.0\n",
            "inf\n",
            "1.0\n",
            "inf\n",
            "1.0\n",
            "3.23606797749979\n",
            "1.0\n",
            "inf\n",
            "1.0\n",
            "inf\n",
            "1.0\n",
            "3.23606797749979\n",
            "3.23606797749979\n",
            "1.0\n",
            "2.0\n",
            "1.0\n",
            "1.0\n",
            "1.0\n",
            "2.0\n",
            "inf\n",
            "1.0\n",
            "inf\n",
            "1.0\n",
            "3.23606797749979\n",
            "1.0\n",
            "1.0\n",
            "1.0\n",
            "2.0\n",
            "inf\n",
            "1.0\n",
            "inf\n",
            "1.0\n",
            "3.23606797749979\n",
            "3.23606797749979\n",
            "1.0\n",
            "1.0\n",
            "1.0\n",
            "2.0\n",
            "1.0\n",
            "1.0\n",
            "1.0\n",
            "2.0\n",
            "3.23606797749979\n",
            "inf\n",
            "1.0\n",
            "1.0\n",
            "1.0\n",
            "1.0\n",
            "2.0\n",
            "1.0\n",
            "1.0\n",
            "1.0\n",
            "2.0\n",
            "3.23606797749979\n",
            "inf\n",
            "1.0\n",
            "3.23606797749979\n"
          ]
        },
        {
          "output_type": "execute_result",
          "data": {
            "text/plain": [
              "[[C, [G, H, 1.0], 3.23606797749979], 4.650281539872885]"
            ]
          },
          "metadata": {},
          "execution_count": 17
        }
      ]
    },
    {
      "cell_type": "code",
      "source": [
        "for i in puntos:\n",
        "  folium.Marker(\n",
        "      puntos[i], popup=f\"<i>{i}</i>\"\n",
        "  ).add_to(m)\n",
        "m"
      ],
      "metadata": {
        "id": "AaCRvREC2bKO"
      },
      "execution_count": null,
      "outputs": []
    }
  ]
}